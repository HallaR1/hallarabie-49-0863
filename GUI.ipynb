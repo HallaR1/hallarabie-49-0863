from tkinter import *

window = Tk()

window.title("Halla's BLOCK CIPHER")

window.geometry('350x200')

lbl = Label(window, text="ENTER TEXT TO BE CIPHERED")

lbl.grid(column=0, row=0)

txt = Entry(window,width=10)

txt.grid(column=1, row=0)

def clicked():

    res = "your Cipher is " + txt.get()

    lbl.configure(text= res)

btn = Button(window, text="Cipher", command=clicked)

btn.grid(column=2, row=0)

window.mainloop()
